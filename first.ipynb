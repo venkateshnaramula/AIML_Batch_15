{
  "nbformat": 4,
  "nbformat_minor": 0,
  "metadata": {
    "colab": {
      "provenance": [],
      "authorship_tag": "ABX9TyOybJTNYiZEQRus51tDZVTS",
      "include_colab_link": true
    },
    "kernelspec": {
      "name": "python3",
      "display_name": "Python 3"
    },
    "language_info": {
      "name": "python"
    }
  },
  "cells": [
    {
      "cell_type": "markdown",
      "metadata": {
        "id": "view-in-github",
        "colab_type": "text"
      },
      "source": [
        "<a href=\"https://colab.research.google.com/github/venkateshnaramula/AIML_Batch_15/blob/main/first.ipynb\" target=\"_parent\"><img src=\"https://colab.research.google.com/assets/colab-badge.svg\" alt=\"Open In Colab\"/></a>"
      ]
    },
    {
      "cell_type": "code",
      "execution_count": 1,
      "metadata": {
        "colab": {
          "base_uri": "https://localhost:8080/"
        },
        "id": "r4I2or-UqQMQ",
        "outputId": "45f2d65a-fb29-4248-8ce0-e8e617b7e0c2"
      },
      "outputs": [
        {
          "output_type": "stream",
          "name": "stdout",
          "text": [
            "[1, 2, 43, 454]\n",
            "[  1   2  43 454]\n"
          ]
        }
      ],
      "source": [
        "import numpy as np\n",
        "var=[1,2,43,454]\n",
        "arry1=np.array(var)\n",
        "print(var)\n",
        "print(arry1)"
      ]
    }
  ]
}